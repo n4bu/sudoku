{
 "cells": [
  {
   "cell_type": "code",
   "execution_count": 1,
   "id": "04966abc",
   "metadata": {},
   "outputs": [],
   "source": [
    "import numpy as np"
   ]
  },
  {
   "cell_type": "code",
   "execution_count": 2,
   "id": "85009c61",
   "metadata": {},
   "outputs": [],
   "source": [
    "sudoku = -np.ones((9,9))"
   ]
  },
  {
   "cell_type": "code",
   "execution_count": 3,
   "id": "60ae59d1",
   "metadata": {},
   "outputs": [],
   "source": [
    "grille=np.array([\n",
    "    [0,0,0,0,6,0,0,3,0],\n",
    "    [2,0,7,3,8,0,0,4,0],\n",
    "    [6,0,0,0,0,0,0,2,0],\n",
    "    [3,0,0,1,4,5,2,0,0],\n",
    "    [5,6,1,2,9,0,0,7,0],\n",
    "    [0,0,9,0,7,0,0,0,1],\n",
    "    [8,0,2,5,1,0,6,0,4],\n",
    "    [0,4,0,9,3,6,8,0,0],\n",
    "    [0,9,0,0,0,4,3,0,7]]\n",
    ")"
   ]
  },
  {
   "cell_type": "code",
   "execution_count": 4,
   "id": "4a9d3d41",
   "metadata": {},
   "outputs": [
    {
     "name": "stdout",
     "output_type": "stream",
     "text": [
      "[[0 0 0 0 6 0 0 3 0]\n",
      " [2 0 7 3 8 0 0 4 0]\n",
      " [6 0 0 0 0 0 0 2 0]\n",
      " [3 0 0 1 4 5 2 0 0]\n",
      " [5 6 1 2 9 0 0 7 0]\n",
      " [0 0 9 0 7 0 0 0 1]\n",
      " [8 0 2 5 1 0 6 0 4]\n",
      " [0 4 0 9 3 6 8 0 0]\n",
      " [0 9 0 0 0 4 3 0 7]]\n"
     ]
    }
   ],
   "source": [
    "print(grille)"
   ]
  },
  {
   "cell_type": "code",
   "execution_count": null,
   "id": "f1ce48bb",
   "metadata": {},
   "outputs": [],
   "source": []
  },
  {
   "cell_type": "code",
   "execution_count": null,
   "id": "9b832fad",
   "metadata": {},
   "outputs": [],
   "source": []
  }
 ],
 "metadata": {
  "kernelspec": {
   "display_name": "Python 3",
   "language": "python",
   "name": "python3"
  },
  "language_info": {
   "codemirror_mode": {
    "name": "ipython",
    "version": 3
   },
   "file_extension": ".py",
   "mimetype": "text/x-python",
   "name": "python",
   "nbconvert_exporter": "python",
   "pygments_lexer": "ipython3",
   "version": "3.9.2"
  }
 },
 "nbformat": 4,
 "nbformat_minor": 5
}
